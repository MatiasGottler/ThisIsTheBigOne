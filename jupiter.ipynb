{
  "metadata": {
    "language_info": {
      "name": ""
    },
    "kernelspec": {
      "name": "python",
      "display_name": "Python (Pyodide)",
      "language": "python"
    }
  },
  "nbformat_minor": 4,
  "nbformat": 4,
  "cells": [
    {
      "cell_type": "markdown",
      "source": "My Jupyterlite Notebook Project",
      "metadata": {}
    },
    {
      "cell_type": "markdown",
      "source": "## Bibliotecas de ciencia de datos\n\n1. Pandas\n2. NumPy\n3. Matplotlib\n4. Scikit-learn\n5. TensorFlow\n",
      "metadata": {}
    },
    {
      "cell_type": "markdown",
      "source": "Este notebook es una prueba para mi certificado en coursera",
      "metadata": {}
    },
    {
      "cell_type": "markdown",
      "source": "## Lenguajes de ciencia de datos\n\n1. Python\n2. R\n3. SQL\n4. Julia\n5. Matlab\n",
      "metadata": {}
    },
    {
      "cell_type": "markdown",
      "source": "| Herramienta             | Descripción                                             |\n|------------------------|---------------------------------------------------------|\n| Python                 | Lenguaje de programación popular para la ciencia de datos |\n| R                      | Lenguaje de programación estadística                     |\n| SQL                    | Lenguaje de consulta de base de datos                     |\n| Pandas                 | Biblioteca de análisis de datos                           |\n| NumPy                  | Biblioteca de cálculo científico                           |\n| Matplotlib             | Biblioteca de visualización de datos                      |\n| Scikit-learn           | Biblioteca de aprendizaje automático                      |\n| TensorFlow             | Biblioteca de aprendizaje profundo                         |\n| Jupyter Notebook/Lab   | Ambiente de trabajo interactivo                           |\n| Git/GitHub             | Control de versiones y colaboración                       |\n",
      "metadata": {}
    },
    {
      "cell_type": "markdown",
      "source": "Suma: 2 + 2 = 4\nResta: 5 - 3 = 2\nMultiplicación: 3 x 4 = 12\nDivisión: 10 / 2 = 5\nExponente: 2^3 = 8\nRaíz cuadrada: √16 = 4",
      "metadata": {}
    },
    {
      "cell_type": "code",
      "source": "a=2\nb=3\nprint(a*b)",
      "metadata": {
        "trusted": true
      },
      "execution_count": null,
      "outputs": []
    },
    {
      "cell_type": "markdown",
      "source": "- Realizar un análisis exploratorio de datos.\n- Implementar modelos de aprendizaje automático.\n- Crear visualizaciones efectivas para la presentación de resultados.\n",
      "metadata": {}
    },
    {
      "cell_type": "markdown",
      "source": "Autor: matias gottler\n",
      "metadata": {}
    },
    {
      "cell_type": "code",
      "source": "# Definir los minutos a convertir\nminutos = 150\n\n# Convertir minutos a horas\nhoras = minutos / 60\n\n# Imprimir el resultado\nprint(\"150 minutos son\", horas, \"horas\")\n",
      "metadata": {},
      "execution_count": null,
      "outputs": []
    }
  ]
}